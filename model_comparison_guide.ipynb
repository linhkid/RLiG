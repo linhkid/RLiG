{
 "cells": [
  {
   "cell_type": "markdown",
   "metadata": {},
   "source": [
    "# Step-by-Step Guide: Comparing RLiG with Baselines\n",
    "\n",
    "This notebook provides a systematic approach to comparing RLiG with baseline models. We'll go through the process step by step, making sure everything is working properly at each stage."
   ]
  },
  {
   "cell_type": "markdown",
   "metadata": {},
   "source": [
    "## Step 1: Environment Setup\n",
    "\n",
    "First, let's make sure we have all the necessary dependencies installed."
   ]
  },
  {
   "cell_type": "code",
   "outputs": [
    {
     "name": "stdout",
     "output_type": "stream",
     "text": [
      "Collecting git+https://github.com/pgmpy/pgmpy.git@dev\r\n",
      "  Cloning https://github.com/pgmpy/pgmpy.git (to revision dev) to /private/var/folders/13/p9hvf8t929x0626wz_slh9340000gn/T/pip-req-build-v4rrs5ju\r\n",
      "  Running command git clone --filter=blob:none --quiet https://github.com/pgmpy/pgmpy.git /private/var/folders/13/p9hvf8t929x0626wz_slh9340000gn/T/pip-req-build-v4rrs5ju\r\n",
      "  Resolved https://github.com/pgmpy/pgmpy.git to commit 4c3b57c84844eef8ba4c0861a7dc9d9341bc8681\r\n",
      "  Running command git submodule update --init --recursive -q\r\n",
      "  Preparing metadata (setup.py) ... \u001B[?25ldone\r\n",
      "\u001B[?25hRequirement already satisfied: networkx in /Users/harrietlesly/anaconda3/envs/rlig/lib/python3.8/site-packages (from pgmpy==1.0.0) (3.1)\r\n",
      "Requirement already satisfied: numpy in /Users/harrietlesly/anaconda3/envs/rlig/lib/python3.8/site-packages (from pgmpy==1.0.0) (1.23.5)\r\n",
      "Requirement already satisfied: scipy in /Users/harrietlesly/anaconda3/envs/rlig/lib/python3.8/site-packages (from pgmpy==1.0.0) (1.10.1)\r\n",
      "Requirement already satisfied: scikit-learn in /Users/harrietlesly/anaconda3/envs/rlig/lib/python3.8/site-packages (from pgmpy==1.0.0) (1.3.2)\r\n",
      "Requirement already satisfied: pandas in /Users/harrietlesly/anaconda3/envs/rlig/lib/python3.8/site-packages (from pgmpy==1.0.0) (1.5.3)\r\n",
      "Requirement already satisfied: torch in /Users/harrietlesly/anaconda3/envs/rlig/lib/python3.8/site-packages (from pgmpy==1.0.0) (2.1.2)\r\n",
      "Requirement already satisfied: statsmodels in /Users/harrietlesly/anaconda3/envs/rlig/lib/python3.8/site-packages (from pgmpy==1.0.0) (0.14.1)\r\n",
      "Requirement already satisfied: tqdm in /Users/harrietlesly/anaconda3/envs/rlig/lib/python3.8/site-packages (from pgmpy==1.0.0) (4.67.1)\r\n",
      "Requirement already satisfied: joblib in /Users/harrietlesly/anaconda3/envs/rlig/lib/python3.8/site-packages (from pgmpy==1.0.0) (1.4.2)\r\n",
      "Requirement already satisfied: opt_einsum in /Users/harrietlesly/anaconda3/envs/rlig/lib/python3.8/site-packages (from pgmpy==1.0.0) (3.4.0)\r\n",
      "Collecting pyro-ppl (from pgmpy==1.0.0)\r\n",
      "  Using cached pyro_ppl-1.9.1-py3-none-any.whl.metadata (7.8 kB)\r\n",
      "Requirement already satisfied: python-dateutil>=2.8.1 in /Users/harrietlesly/anaconda3/envs/rlig/lib/python3.8/site-packages (from pandas->pgmpy==1.0.0) (2.9.0.post0)\r\n",
      "Requirement already satisfied: pytz>=2020.1 in /Users/harrietlesly/anaconda3/envs/rlig/lib/python3.8/site-packages (from pandas->pgmpy==1.0.0) (2024.1)\r\n",
      "Collecting pyro-api>=0.1.1 (from pyro-ppl->pgmpy==1.0.0)\r\n",
      "  Using cached pyro_api-0.1.2-py3-none-any.whl.metadata (2.5 kB)\r\n",
      "Requirement already satisfied: filelock in /Users/harrietlesly/anaconda3/envs/rlig/lib/python3.8/site-packages (from torch->pgmpy==1.0.0) (3.16.1)\r\n",
      "Requirement already satisfied: typing-extensions in /Users/harrietlesly/anaconda3/envs/rlig/lib/python3.8/site-packages (from torch->pgmpy==1.0.0) (4.13.2)\r\n",
      "Requirement already satisfied: sympy in /Users/harrietlesly/anaconda3/envs/rlig/lib/python3.8/site-packages (from torch->pgmpy==1.0.0) (1.13.3)\r\n",
      "Requirement already satisfied: jinja2 in /Users/harrietlesly/anaconda3/envs/rlig/lib/python3.8/site-packages (from torch->pgmpy==1.0.0) (3.1.4)\r\n",
      "Requirement already satisfied: fsspec in /Users/harrietlesly/anaconda3/envs/rlig/lib/python3.8/site-packages (from torch->pgmpy==1.0.0) (2025.3.0)\r\n",
      "Requirement already satisfied: threadpoolctl>=2.0.0 in /Users/harrietlesly/anaconda3/envs/rlig/lib/python3.8/site-packages (from scikit-learn->pgmpy==1.0.0) (3.5.0)\r\n",
      "Requirement already satisfied: patsy>=0.5.4 in /Users/harrietlesly/anaconda3/envs/rlig/lib/python3.8/site-packages (from statsmodels->pgmpy==1.0.0) (1.0.1)\r\n",
      "Requirement already satisfied: packaging>=21.3 in /Users/harrietlesly/anaconda3/envs/rlig/lib/python3.8/site-packages (from statsmodels->pgmpy==1.0.0) (24.1)\r\n",
      "Requirement already satisfied: six>=1.5 in /Users/harrietlesly/anaconda3/envs/rlig/lib/python3.8/site-packages (from python-dateutil>=2.8.1->pandas->pgmpy==1.0.0) (1.16.0)\r\n",
      "Requirement already satisfied: MarkupSafe>=2.0 in /Users/harrietlesly/anaconda3/envs/rlig/lib/python3.8/site-packages (from jinja2->torch->pgmpy==1.0.0) (2.1.3)\r\n",
      "Requirement already satisfied: mpmath<1.4,>=1.1.0 in /Users/harrietlesly/anaconda3/envs/rlig/lib/python3.8/site-packages (from sympy->torch->pgmpy==1.0.0) (1.3.0)\r\n",
      "Using cached pyro_ppl-1.9.1-py3-none-any.whl (755 kB)\r\n",
      "Using cached pyro_api-0.1.2-py3-none-any.whl (11 kB)\r\n",
      "Building wheels for collected packages: pgmpy\r\n",
      "  Building wheel for pgmpy (setup.py) ... \u001B[?25ldone\r\n",
      "\u001B[?25h  Created wheel for pgmpy: filename=pgmpy-1.0.0-py3-none-any.whl size=2005365 sha256=6c41ed222944dc5d5ca249919ab2e708c9f35a0f67b5bf84ddb3d91264a87ff0\r\n",
      "  Stored in directory: /private/var/folders/13/p9hvf8t929x0626wz_slh9340000gn/T/pip-ephem-wheel-cache-ckedkcdf/wheels/16/a2/21/08811194a50c6c3b3a6a9c5b5eb90c5ff7005b5494594a6bae\r\n",
      "Successfully built pgmpy\r\n",
      "Installing collected packages: pyro-api, pyro-ppl, pgmpy\r\n",
      "  Attempting uninstall: pgmpy\r\n",
      "    Found existing installation: pgmpy 0.1.19\r\n",
      "    Uninstalling pgmpy-0.1.19:\r\n",
      "      Successfully uninstalled pgmpy-0.1.19\r\n",
      "\u001B[31mERROR: pip's dependency resolver does not currently take into account all the packages that are installed. This behaviour is the source of the following dependency conflicts.\r\n",
      "causalnex 0.12.1 requires pgmpy<0.1.20,>=0.1.14, but you have pgmpy 1.0.0 which is incompatible.\u001B[0m\u001B[31m\r\n",
      "\u001B[0mSuccessfully installed pgmpy-1.0.0 pyro-api-0.1.2 pyro-ppl-1.9.1\r\n"
     ]
    }
   ],
   "source": [
    "# Create anaconda env with python=3.10\n",
    "# Install pgmpy from dev branch: \n",
    "!pip install git+https://github.com/pgmpy/pgmpy.git@dev"
   ],
   "metadata": {
    "collapsed": false,
    "ExecuteTime": {
     "end_time": "2025-04-28T05:44:33.760973Z",
     "start_time": "2025-04-28T05:44:28.199311Z"
    }
   },
   "execution_count": 3
  },
  {
   "cell_type": "code",
   "execution_count": 4,
   "metadata": {
    "ExecuteTime": {
     "end_time": "2025-04-28T05:44:46.866275Z",
     "start_time": "2025-04-28T05:44:45.415238Z"
    }
   },
   "outputs": [
    {
     "name": "stdout",
     "output_type": "stream",
     "text": [
      "Requirement already satisfied: pyitlib in /Users/harrietlesly/anaconda3/envs/rlig/lib/python3.8/site-packages (0.3.0)\r\n",
      "Requirement already satisfied: tensorflow in /Users/harrietlesly/anaconda3/envs/rlig/lib/python3.8/site-packages (2.13.0)\r\n",
      "Requirement already satisfied: matplotlib in /Users/harrietlesly/anaconda3/envs/rlig/lib/python3.8/site-packages (3.7.5)\r\n",
      "Collecting Pympler\r\n",
      "  Using cached Pympler-1.1-py3-none-any.whl.metadata (3.6 kB)\r\n",
      "Requirement already satisfied: pandas>=0.20.2 in /Users/harrietlesly/anaconda3/envs/rlig/lib/python3.8/site-packages (from pyitlib) (1.5.3)\r\n",
      "Requirement already satisfied: numpy>=1.9.2 in /Users/harrietlesly/anaconda3/envs/rlig/lib/python3.8/site-packages (from pyitlib) (1.23.5)\r\n",
      "Requirement already satisfied: scikit-learn>=0.16.0 in /Users/harrietlesly/anaconda3/envs/rlig/lib/python3.8/site-packages (from pyitlib) (1.3.2)\r\n",
      "Requirement already satisfied: scipy>=1.0.1 in /Users/harrietlesly/anaconda3/envs/rlig/lib/python3.8/site-packages (from pyitlib) (1.10.1)\r\n",
      "Requirement already satisfied: future>=0.16.0 in /Users/harrietlesly/anaconda3/envs/rlig/lib/python3.8/site-packages (from pyitlib) (1.0.0)\r\n",
      "Requirement already satisfied: tensorflow-macos==2.13.0 in /Users/harrietlesly/anaconda3/envs/rlig/lib/python3.8/site-packages (from tensorflow) (2.13.0)\r\n",
      "Requirement already satisfied: absl-py>=1.0.0 in /Users/harrietlesly/anaconda3/envs/rlig/lib/python3.8/site-packages (from tensorflow-macos==2.13.0->tensorflow) (2.2.2)\r\n",
      "Requirement already satisfied: astunparse>=1.6.0 in /Users/harrietlesly/anaconda3/envs/rlig/lib/python3.8/site-packages (from tensorflow-macos==2.13.0->tensorflow) (1.6.3)\r\n",
      "Requirement already satisfied: flatbuffers>=23.1.21 in /Users/harrietlesly/anaconda3/envs/rlig/lib/python3.8/site-packages (from tensorflow-macos==2.13.0->tensorflow) (25.2.10)\r\n",
      "Requirement already satisfied: gast<=0.4.0,>=0.2.1 in /Users/harrietlesly/anaconda3/envs/rlig/lib/python3.8/site-packages (from tensorflow-macos==2.13.0->tensorflow) (0.4.0)\r\n",
      "Requirement already satisfied: google-pasta>=0.1.1 in /Users/harrietlesly/anaconda3/envs/rlig/lib/python3.8/site-packages (from tensorflow-macos==2.13.0->tensorflow) (0.2.0)\r\n",
      "Requirement already satisfied: h5py>=2.9.0 in /Users/harrietlesly/anaconda3/envs/rlig/lib/python3.8/site-packages (from tensorflow-macos==2.13.0->tensorflow) (3.11.0)\r\n",
      "Requirement already satisfied: libclang>=13.0.0 in /Users/harrietlesly/anaconda3/envs/rlig/lib/python3.8/site-packages (from tensorflow-macos==2.13.0->tensorflow) (18.1.1)\r\n",
      "Requirement already satisfied: opt-einsum>=2.3.2 in /Users/harrietlesly/anaconda3/envs/rlig/lib/python3.8/site-packages (from tensorflow-macos==2.13.0->tensorflow) (3.4.0)\r\n",
      "Requirement already satisfied: packaging in /Users/harrietlesly/anaconda3/envs/rlig/lib/python3.8/site-packages (from tensorflow-macos==2.13.0->tensorflow) (24.1)\r\n",
      "Requirement already satisfied: protobuf!=4.21.0,!=4.21.1,!=4.21.2,!=4.21.3,!=4.21.4,!=4.21.5,<5.0.0dev,>=3.20.3 in /Users/harrietlesly/anaconda3/envs/rlig/lib/python3.8/site-packages (from tensorflow-macos==2.13.0->tensorflow) (4.25.7)\r\n",
      "Requirement already satisfied: setuptools in /Users/harrietlesly/anaconda3/envs/rlig/lib/python3.8/site-packages (from tensorflow-macos==2.13.0->tensorflow) (75.1.0)\r\n",
      "Requirement already satisfied: six>=1.12.0 in /Users/harrietlesly/anaconda3/envs/rlig/lib/python3.8/site-packages (from tensorflow-macos==2.13.0->tensorflow) (1.16.0)\r\n",
      "Requirement already satisfied: termcolor>=1.1.0 in /Users/harrietlesly/anaconda3/envs/rlig/lib/python3.8/site-packages (from tensorflow-macos==2.13.0->tensorflow) (2.4.0)\r\n",
      "Collecting typing-extensions<4.6.0,>=3.6.6 (from tensorflow-macos==2.13.0->tensorflow)\r\n",
      "  Using cached typing_extensions-4.5.0-py3-none-any.whl.metadata (8.5 kB)\r\n",
      "Requirement already satisfied: wrapt>=1.11.0 in /Users/harrietlesly/anaconda3/envs/rlig/lib/python3.8/site-packages (from tensorflow-macos==2.13.0->tensorflow) (1.17.2)\r\n",
      "Requirement already satisfied: grpcio<2.0,>=1.24.3 in /Users/harrietlesly/anaconda3/envs/rlig/lib/python3.8/site-packages (from tensorflow-macos==2.13.0->tensorflow) (1.70.0)\r\n",
      "Requirement already satisfied: tensorboard<2.14,>=2.13 in /Users/harrietlesly/anaconda3/envs/rlig/lib/python3.8/site-packages (from tensorflow-macos==2.13.0->tensorflow) (2.13.0)\r\n",
      "Requirement already satisfied: tensorflow-estimator<2.14,>=2.13.0 in /Users/harrietlesly/anaconda3/envs/rlig/lib/python3.8/site-packages (from tensorflow-macos==2.13.0->tensorflow) (2.13.0)\r\n",
      "Requirement already satisfied: keras<2.14,>=2.13.1 in /Users/harrietlesly/anaconda3/envs/rlig/lib/python3.8/site-packages (from tensorflow-macos==2.13.0->tensorflow) (2.13.1)\r\n",
      "Requirement already satisfied: contourpy>=1.0.1 in /Users/harrietlesly/anaconda3/envs/rlig/lib/python3.8/site-packages (from matplotlib) (1.1.1)\r\n",
      "Requirement already satisfied: cycler>=0.10 in /Users/harrietlesly/anaconda3/envs/rlig/lib/python3.8/site-packages (from matplotlib) (0.12.1)\r\n",
      "Requirement already satisfied: fonttools>=4.22.0 in /Users/harrietlesly/anaconda3/envs/rlig/lib/python3.8/site-packages (from matplotlib) (4.57.0)\r\n",
      "Requirement already satisfied: kiwisolver>=1.0.1 in /Users/harrietlesly/anaconda3/envs/rlig/lib/python3.8/site-packages (from matplotlib) (1.4.7)\r\n",
      "Requirement already satisfied: pillow>=6.2.0 in /Users/harrietlesly/anaconda3/envs/rlig/lib/python3.8/site-packages (from matplotlib) (10.4.0)\r\n",
      "Requirement already satisfied: pyparsing>=2.3.1 in /Users/harrietlesly/anaconda3/envs/rlig/lib/python3.8/site-packages (from matplotlib) (3.1.4)\r\n",
      "Requirement already satisfied: python-dateutil>=2.7 in /Users/harrietlesly/anaconda3/envs/rlig/lib/python3.8/site-packages (from matplotlib) (2.9.0.post0)\r\n",
      "Requirement already satisfied: importlib-resources>=3.2.0 in /Users/harrietlesly/anaconda3/envs/rlig/lib/python3.8/site-packages (from matplotlib) (6.4.0)\r\n",
      "Requirement already satisfied: zipp>=3.1.0 in /Users/harrietlesly/anaconda3/envs/rlig/lib/python3.8/site-packages (from importlib-resources>=3.2.0->matplotlib) (3.20.2)\r\n",
      "Requirement already satisfied: pytz>=2020.1 in /Users/harrietlesly/anaconda3/envs/rlig/lib/python3.8/site-packages (from pandas>=0.20.2->pyitlib) (2024.1)\r\n",
      "Requirement already satisfied: joblib>=1.1.1 in /Users/harrietlesly/anaconda3/envs/rlig/lib/python3.8/site-packages (from scikit-learn>=0.16.0->pyitlib) (1.4.2)\r\n",
      "Requirement already satisfied: threadpoolctl>=2.0.0 in /Users/harrietlesly/anaconda3/envs/rlig/lib/python3.8/site-packages (from scikit-learn>=0.16.0->pyitlib) (3.5.0)\r\n",
      "Requirement already satisfied: wheel<1.0,>=0.23.0 in /Users/harrietlesly/anaconda3/envs/rlig/lib/python3.8/site-packages (from astunparse>=1.6.0->tensorflow-macos==2.13.0->tensorflow) (0.44.0)\r\n",
      "Requirement already satisfied: google-auth<3,>=1.6.3 in /Users/harrietlesly/anaconda3/envs/rlig/lib/python3.8/site-packages (from tensorboard<2.14,>=2.13->tensorflow-macos==2.13.0->tensorflow) (2.39.0)\r\n",
      "Requirement already satisfied: google-auth-oauthlib<1.1,>=0.5 in /Users/harrietlesly/anaconda3/envs/rlig/lib/python3.8/site-packages (from tensorboard<2.14,>=2.13->tensorflow-macos==2.13.0->tensorflow) (1.0.0)\r\n",
      "Requirement already satisfied: markdown>=2.6.8 in /Users/harrietlesly/anaconda3/envs/rlig/lib/python3.8/site-packages (from tensorboard<2.14,>=2.13->tensorflow-macos==2.13.0->tensorflow) (3.7)\r\n",
      "Requirement already satisfied: requests<3,>=2.21.0 in /Users/harrietlesly/anaconda3/envs/rlig/lib/python3.8/site-packages (from tensorboard<2.14,>=2.13->tensorflow-macos==2.13.0->tensorflow) (2.32.3)\r\n",
      "Requirement already satisfied: tensorboard-data-server<0.8.0,>=0.7.0 in /Users/harrietlesly/anaconda3/envs/rlig/lib/python3.8/site-packages (from tensorboard<2.14,>=2.13->tensorflow-macos==2.13.0->tensorflow) (0.7.2)\r\n",
      "Requirement already satisfied: werkzeug>=1.0.1 in /Users/harrietlesly/anaconda3/envs/rlig/lib/python3.8/site-packages (from tensorboard<2.14,>=2.13->tensorflow-macos==2.13.0->tensorflow) (3.0.6)\r\n",
      "Requirement already satisfied: cachetools<6.0,>=2.0.0 in /Users/harrietlesly/anaconda3/envs/rlig/lib/python3.8/site-packages (from google-auth<3,>=1.6.3->tensorboard<2.14,>=2.13->tensorflow-macos==2.13.0->tensorflow) (5.5.2)\r\n",
      "Requirement already satisfied: pyasn1-modules>=0.2.1 in /Users/harrietlesly/anaconda3/envs/rlig/lib/python3.8/site-packages (from google-auth<3,>=1.6.3->tensorboard<2.14,>=2.13->tensorflow-macos==2.13.0->tensorflow) (0.4.2)\r\n",
      "Requirement already satisfied: rsa<5,>=3.1.4 in /Users/harrietlesly/anaconda3/envs/rlig/lib/python3.8/site-packages (from google-auth<3,>=1.6.3->tensorboard<2.14,>=2.13->tensorflow-macos==2.13.0->tensorflow) (4.9.1)\r\n",
      "Requirement already satisfied: requests-oauthlib>=0.7.0 in /Users/harrietlesly/anaconda3/envs/rlig/lib/python3.8/site-packages (from google-auth-oauthlib<1.1,>=0.5->tensorboard<2.14,>=2.13->tensorflow-macos==2.13.0->tensorflow) (2.0.0)\r\n",
      "Requirement already satisfied: importlib-metadata>=4.4 in /Users/harrietlesly/anaconda3/envs/rlig/lib/python3.8/site-packages (from markdown>=2.6.8->tensorboard<2.14,>=2.13->tensorflow-macos==2.13.0->tensorflow) (7.0.1)\r\n",
      "Requirement already satisfied: charset-normalizer<4,>=2 in /Users/harrietlesly/anaconda3/envs/rlig/lib/python3.8/site-packages (from requests<3,>=2.21.0->tensorboard<2.14,>=2.13->tensorflow-macos==2.13.0->tensorflow) (3.3.2)\r\n",
      "Requirement already satisfied: idna<4,>=2.5 in /Users/harrietlesly/anaconda3/envs/rlig/lib/python3.8/site-packages (from requests<3,>=2.21.0->tensorboard<2.14,>=2.13->tensorflow-macos==2.13.0->tensorflow) (3.7)\r\n",
      "Requirement already satisfied: urllib3<3,>=1.21.1 in /Users/harrietlesly/anaconda3/envs/rlig/lib/python3.8/site-packages (from requests<3,>=2.21.0->tensorboard<2.14,>=2.13->tensorflow-macos==2.13.0->tensorflow) (2.2.3)\r\n",
      "Requirement already satisfied: certifi>=2017.4.17 in /Users/harrietlesly/anaconda3/envs/rlig/lib/python3.8/site-packages (from requests<3,>=2.21.0->tensorboard<2.14,>=2.13->tensorflow-macos==2.13.0->tensorflow) (2024.8.30)\r\n",
      "Requirement already satisfied: MarkupSafe>=2.1.1 in /Users/harrietlesly/anaconda3/envs/rlig/lib/python3.8/site-packages (from werkzeug>=1.0.1->tensorboard<2.14,>=2.13->tensorflow-macos==2.13.0->tensorflow) (2.1.3)\r\n",
      "Requirement already satisfied: pyasn1<0.7.0,>=0.6.1 in /Users/harrietlesly/anaconda3/envs/rlig/lib/python3.8/site-packages (from pyasn1-modules>=0.2.1->google-auth<3,>=1.6.3->tensorboard<2.14,>=2.13->tensorflow-macos==2.13.0->tensorflow) (0.6.1)\r\n",
      "Requirement already satisfied: oauthlib>=3.0.0 in /Users/harrietlesly/anaconda3/envs/rlig/lib/python3.8/site-packages (from requests-oauthlib>=0.7.0->google-auth-oauthlib<1.1,>=0.5->tensorboard<2.14,>=2.13->tensorflow-macos==2.13.0->tensorflow) (3.2.2)\r\n",
      "Using cached Pympler-1.1-py3-none-any.whl (165 kB)\r\n",
      "Using cached typing_extensions-4.5.0-py3-none-any.whl (27 kB)\r\n",
      "Installing collected packages: typing-extensions, Pympler\r\n",
      "  Attempting uninstall: typing-extensions\r\n",
      "    Found existing installation: typing_extensions 4.13.2\r\n",
      "    Uninstalling typing_extensions-4.13.2:\r\n",
      "      Successfully uninstalled typing_extensions-4.13.2\r\n",
      "Successfully installed Pympler-1.1 typing-extensions-4.5.0\r\n"
     ]
    }
   ],
   "source": [
    "# Install required packages\n",
    "!pip install pyitlib tensorflow matplotlib Pympler"
   ]
  },
  {
   "cell_type": "code",
   "execution_count": 5,
   "metadata": {
    "ExecuteTime": {
     "end_time": "2025-04-28T05:44:49.585485Z",
     "start_time": "2025-04-28T05:44:48.420989Z"
    }
   },
   "outputs": [
    {
     "name": "stdout",
     "output_type": "stream",
     "text": [
      "Requirement already satisfied: causalnex in /Users/harrietlesly/anaconda3/envs/rlig/lib/python3.8/site-packages (0.12.1)\r\n",
      "Requirement already satisfied: ipython>=8.10.0 in /Users/harrietlesly/anaconda3/envs/rlig/lib/python3.8/site-packages (from causalnex) (8.12.2)\r\n",
      "Requirement already satisfied: networkx>=2.5 in /Users/harrietlesly/anaconda3/envs/rlig/lib/python3.8/site-packages (from causalnex) (3.1)\r\n",
      "Requirement already satisfied: numpy<1.24,>=1.14.2 in /Users/harrietlesly/anaconda3/envs/rlig/lib/python3.8/site-packages (from causalnex) (1.23.5)\r\n",
      "Requirement already satisfied: pandas<2.0,>=1.0 in /Users/harrietlesly/anaconda3/envs/rlig/lib/python3.8/site-packages (from causalnex) (1.5.3)\r\n",
      "Requirement already satisfied: pathos>=0.2.7 in /Users/harrietlesly/anaconda3/envs/rlig/lib/python3.8/site-packages (from causalnex) (0.3.4)\r\n",
      "Collecting pgmpy<0.1.20,>=0.1.14 (from causalnex)\r\n",
      "  Using cached pgmpy-0.1.19-py3-none-any.whl.metadata (6.3 kB)\r\n",
      "Requirement already satisfied: pyvis>=0.3.2 in /Users/harrietlesly/anaconda3/envs/rlig/lib/python3.8/site-packages (from causalnex) (0.3.2)\r\n",
      "Requirement already satisfied: scipy>=1.7 in /Users/harrietlesly/anaconda3/envs/rlig/lib/python3.8/site-packages (from causalnex) (1.10.1)\r\n",
      "Requirement already satisfied: setuptools>=65.5.1 in /Users/harrietlesly/anaconda3/envs/rlig/lib/python3.8/site-packages (from causalnex) (75.1.0)\r\n",
      "Requirement already satisfied: torch>=1.7 in /Users/harrietlesly/anaconda3/envs/rlig/lib/python3.8/site-packages (from causalnex) (2.1.2)\r\n",
      "Requirement already satisfied: wheel>=0.38.0 in /Users/harrietlesly/anaconda3/envs/rlig/lib/python3.8/site-packages (from causalnex) (0.44.0)\r\n",
      "Requirement already satisfied: scikit-learn!=0.22.2.post1,!=0.24.1,>=0.22.0 in /Users/harrietlesly/anaconda3/envs/rlig/lib/python3.8/site-packages (from causalnex) (1.3.2)\r\n",
      "Requirement already satisfied: backcall in /Users/harrietlesly/anaconda3/envs/rlig/lib/python3.8/site-packages (from ipython>=8.10.0->causalnex) (0.2.0)\r\n",
      "Requirement already satisfied: decorator in /Users/harrietlesly/anaconda3/envs/rlig/lib/python3.8/site-packages (from ipython>=8.10.0->causalnex) (5.1.1)\r\n",
      "Requirement already satisfied: jedi>=0.16 in /Users/harrietlesly/anaconda3/envs/rlig/lib/python3.8/site-packages (from ipython>=8.10.0->causalnex) (0.19.1)\r\n",
      "Requirement already satisfied: matplotlib-inline in /Users/harrietlesly/anaconda3/envs/rlig/lib/python3.8/site-packages (from ipython>=8.10.0->causalnex) (0.1.6)\r\n",
      "Requirement already satisfied: pickleshare in /Users/harrietlesly/anaconda3/envs/rlig/lib/python3.8/site-packages (from ipython>=8.10.0->causalnex) (0.7.5)\r\n",
      "Requirement already satisfied: prompt-toolkit!=3.0.37,<3.1.0,>=3.0.30 in /Users/harrietlesly/anaconda3/envs/rlig/lib/python3.8/site-packages (from ipython>=8.10.0->causalnex) (3.0.43)\r\n",
      "Requirement already satisfied: pygments>=2.4.0 in /Users/harrietlesly/anaconda3/envs/rlig/lib/python3.8/site-packages (from ipython>=8.10.0->causalnex) (2.15.1)\r\n",
      "Requirement already satisfied: stack-data in /Users/harrietlesly/anaconda3/envs/rlig/lib/python3.8/site-packages (from ipython>=8.10.0->causalnex) (0.2.0)\r\n",
      "Requirement already satisfied: traitlets>=5 in /Users/harrietlesly/anaconda3/envs/rlig/lib/python3.8/site-packages (from ipython>=8.10.0->causalnex) (5.14.3)\r\n",
      "Requirement already satisfied: typing-extensions in /Users/harrietlesly/anaconda3/envs/rlig/lib/python3.8/site-packages (from ipython>=8.10.0->causalnex) (4.5.0)\r\n",
      "Requirement already satisfied: pexpect>4.3 in /Users/harrietlesly/anaconda3/envs/rlig/lib/python3.8/site-packages (from ipython>=8.10.0->causalnex) (4.8.0)\r\n",
      "Requirement already satisfied: appnope in /Users/harrietlesly/anaconda3/envs/rlig/lib/python3.8/site-packages (from ipython>=8.10.0->causalnex) (0.1.2)\r\n",
      "Requirement already satisfied: python-dateutil>=2.8.1 in /Users/harrietlesly/anaconda3/envs/rlig/lib/python3.8/site-packages (from pandas<2.0,>=1.0->causalnex) (2.9.0.post0)\r\n",
      "Requirement already satisfied: pytz>=2020.1 in /Users/harrietlesly/anaconda3/envs/rlig/lib/python3.8/site-packages (from pandas<2.0,>=1.0->causalnex) (2024.1)\r\n",
      "Requirement already satisfied: ppft>=1.7.7 in /Users/harrietlesly/anaconda3/envs/rlig/lib/python3.8/site-packages (from pathos>=0.2.7->causalnex) (1.7.7)\r\n",
      "Requirement already satisfied: dill>=0.4.0 in /Users/harrietlesly/anaconda3/envs/rlig/lib/python3.8/site-packages (from pathos>=0.2.7->causalnex) (0.4.0)\r\n",
      "Requirement already satisfied: pox>=0.3.6 in /Users/harrietlesly/anaconda3/envs/rlig/lib/python3.8/site-packages (from pathos>=0.2.7->causalnex) (0.3.6)\r\n",
      "Requirement already satisfied: multiprocess>=0.70.18 in /Users/harrietlesly/anaconda3/envs/rlig/lib/python3.8/site-packages (from pathos>=0.2.7->causalnex) (0.70.18)\r\n",
      "Requirement already satisfied: pyparsing in /Users/harrietlesly/anaconda3/envs/rlig/lib/python3.8/site-packages (from pgmpy<0.1.20,>=0.1.14->causalnex) (3.1.4)\r\n",
      "Requirement already satisfied: statsmodels in /Users/harrietlesly/anaconda3/envs/rlig/lib/python3.8/site-packages (from pgmpy<0.1.20,>=0.1.14->causalnex) (0.14.1)\r\n",
      "Requirement already satisfied: tqdm in /Users/harrietlesly/anaconda3/envs/rlig/lib/python3.8/site-packages (from pgmpy<0.1.20,>=0.1.14->causalnex) (4.67.1)\r\n",
      "Requirement already satisfied: joblib in /Users/harrietlesly/anaconda3/envs/rlig/lib/python3.8/site-packages (from pgmpy<0.1.20,>=0.1.14->causalnex) (1.4.2)\r\n",
      "Requirement already satisfied: jinja2>=2.9.6 in /Users/harrietlesly/anaconda3/envs/rlig/lib/python3.8/site-packages (from pyvis>=0.3.2->causalnex) (3.1.4)\r\n",
      "Requirement already satisfied: jsonpickle>=1.4.1 in /Users/harrietlesly/anaconda3/envs/rlig/lib/python3.8/site-packages (from pyvis>=0.3.2->causalnex) (4.0.5)\r\n",
      "Requirement already satisfied: threadpoolctl>=2.0.0 in /Users/harrietlesly/anaconda3/envs/rlig/lib/python3.8/site-packages (from scikit-learn!=0.22.2.post1,!=0.24.1,>=0.22.0->causalnex) (3.5.0)\r\n",
      "Requirement already satisfied: filelock in /Users/harrietlesly/anaconda3/envs/rlig/lib/python3.8/site-packages (from torch>=1.7->causalnex) (3.16.1)\r\n",
      "Requirement already satisfied: sympy in /Users/harrietlesly/anaconda3/envs/rlig/lib/python3.8/site-packages (from torch>=1.7->causalnex) (1.13.3)\r\n",
      "Requirement already satisfied: fsspec in /Users/harrietlesly/anaconda3/envs/rlig/lib/python3.8/site-packages (from torch>=1.7->causalnex) (2025.3.0)\r\n",
      "Requirement already satisfied: parso<0.9.0,>=0.8.3 in /Users/harrietlesly/anaconda3/envs/rlig/lib/python3.8/site-packages (from jedi>=0.16->ipython>=8.10.0->causalnex) (0.8.3)\r\n",
      "Requirement already satisfied: MarkupSafe>=2.0 in /Users/harrietlesly/anaconda3/envs/rlig/lib/python3.8/site-packages (from jinja2>=2.9.6->pyvis>=0.3.2->causalnex) (2.1.3)\r\n",
      "Requirement already satisfied: ptyprocess>=0.5 in /Users/harrietlesly/anaconda3/envs/rlig/lib/python3.8/site-packages (from pexpect>4.3->ipython>=8.10.0->causalnex) (0.7.0)\r\n",
      "Requirement already satisfied: wcwidth in /Users/harrietlesly/anaconda3/envs/rlig/lib/python3.8/site-packages (from prompt-toolkit!=3.0.37,<3.1.0,>=3.0.30->ipython>=8.10.0->causalnex) (0.2.13)\r\n",
      "Requirement already satisfied: six>=1.5 in /Users/harrietlesly/anaconda3/envs/rlig/lib/python3.8/site-packages (from python-dateutil>=2.8.1->pandas<2.0,>=1.0->causalnex) (1.16.0)\r\n",
      "Requirement already satisfied: executing in /Users/harrietlesly/anaconda3/envs/rlig/lib/python3.8/site-packages (from stack-data->ipython>=8.10.0->causalnex) (0.8.3)\r\n",
      "Requirement already satisfied: asttokens in /Users/harrietlesly/anaconda3/envs/rlig/lib/python3.8/site-packages (from stack-data->ipython>=8.10.0->causalnex) (2.0.5)\r\n",
      "Requirement already satisfied: pure-eval in /Users/harrietlesly/anaconda3/envs/rlig/lib/python3.8/site-packages (from stack-data->ipython>=8.10.0->causalnex) (0.2.2)\r\n",
      "Requirement already satisfied: patsy>=0.5.4 in /Users/harrietlesly/anaconda3/envs/rlig/lib/python3.8/site-packages (from statsmodels->pgmpy<0.1.20,>=0.1.14->causalnex) (1.0.1)\r\n",
      "Requirement already satisfied: packaging>=21.3 in /Users/harrietlesly/anaconda3/envs/rlig/lib/python3.8/site-packages (from statsmodels->pgmpy<0.1.20,>=0.1.14->causalnex) (24.1)\r\n",
      "Requirement already satisfied: mpmath<1.4,>=1.1.0 in /Users/harrietlesly/anaconda3/envs/rlig/lib/python3.8/site-packages (from sympy->torch>=1.7->causalnex) (1.3.0)\r\n",
      "Using cached pgmpy-0.1.19-py3-none-any.whl (1.9 MB)\r\n",
      "Installing collected packages: pgmpy\r\n",
      "  Attempting uninstall: pgmpy\r\n",
      "    Found existing installation: pgmpy 1.0.0\r\n",
      "    Uninstalling pgmpy-1.0.0:\r\n",
      "      Successfully uninstalled pgmpy-1.0.0\r\n",
      "Successfully installed pgmpy-0.1.19\r\n"
     ]
    }
   ],
   "source": [
    "# Optional: Install causalnex for NOTEARS algorithm\n",
    "!pip install causalnex"
   ]
  },
  {
   "cell_type": "code",
   "execution_count": 6,
   "metadata": {
    "ExecuteTime": {
     "end_time": "2025-04-28T05:44:51.625219Z",
     "start_time": "2025-04-28T05:44:50.918512Z"
    }
   },
   "outputs": [
    {
     "name": "stdout",
     "output_type": "stream",
     "text": [
      "Collecting ucimlrepo\r\n",
      "  Using cached ucimlrepo-0.0.7-py3-none-any.whl.metadata (5.5 kB)\r\n",
      "Requirement already satisfied: pandas>=1.0.0 in /Users/harrietlesly/anaconda3/envs/rlig/lib/python3.8/site-packages (from ucimlrepo) (1.5.3)\r\n",
      "Requirement already satisfied: certifi>=2020.12.5 in /Users/harrietlesly/anaconda3/envs/rlig/lib/python3.8/site-packages (from ucimlrepo) (2024.8.30)\r\n",
      "Requirement already satisfied: python-dateutil>=2.8.1 in /Users/harrietlesly/anaconda3/envs/rlig/lib/python3.8/site-packages (from pandas>=1.0.0->ucimlrepo) (2.9.0.post0)\r\n",
      "Requirement already satisfied: pytz>=2020.1 in /Users/harrietlesly/anaconda3/envs/rlig/lib/python3.8/site-packages (from pandas>=1.0.0->ucimlrepo) (2024.1)\r\n",
      "Requirement already satisfied: numpy>=1.20.3 in /Users/harrietlesly/anaconda3/envs/rlig/lib/python3.8/site-packages (from pandas>=1.0.0->ucimlrepo) (1.23.5)\r\n",
      "Requirement already satisfied: six>=1.5 in /Users/harrietlesly/anaconda3/envs/rlig/lib/python3.8/site-packages (from python-dateutil>=2.8.1->pandas>=1.0.0->ucimlrepo) (1.16.0)\r\n",
      "Using cached ucimlrepo-0.0.7-py3-none-any.whl (8.0 kB)\r\n",
      "Installing collected packages: ucimlrepo\r\n",
      "Successfully installed ucimlrepo-0.0.7\r\n"
     ]
    }
   ],
   "source": [
    "# Optional: Install ucimlrepo for accessing UCI datasets\n",
    "!pip install ucimlrepo"
   ]
  },
  {
   "cell_type": "code",
   "execution_count": null,
   "metadata": {},
   "outputs": [],
   "source": [
    "# Import packages and suppress warnings\n",
    "import sys\n",
    "import os\n",
    "import warnings\n",
    "import logging\n",
    "import pandas as pd\n",
    "import numpy as np\n",
    "import matplotlib.pyplot as plt\n",
    "\n",
    "# Suppress warnings\n",
    "warnings.filterwarnings('ignore')\n",
    "logging.getLogger('tensorflow').setLevel(logging.ERROR)\n",
    "logging.getLogger('pgmpy').setLevel(logging.ERROR)"
   ]
  },
  {
   "cell_type": "markdown",
   "metadata": {},
   "source": [
    "## Step 2: Install and Check RLiG\n",
    "\n",
    "We need to ensure the RLiG package is properly installed. Since it's a local package, we'll need to install it from the local directory."
   ]
  },
  {
   "cell_type": "code",
   "execution_count": 9,
   "metadata": {
    "ExecuteTime": {
     "end_time": "2025-04-28T05:45:16.701108Z",
     "start_time": "2025-04-28T05:45:15.409935Z"
    }
   },
   "outputs": [
    {
     "name": "stdout",
     "output_type": "stream",
     "text": [
      "Obtaining file:///Users/harrietlesly/Mini-Project/RLiG/ganblr-0.1.1\r\n",
      "  Preparing metadata (setup.py) ... \u001B[?25ldone\r\n",
      "\u001B[?25hRequirement already satisfied: numpy in /Users/harrietlesly/anaconda3/envs/rlig/lib/python3.8/site-packages (from ganblr==0.1.1) (1.23.5)\r\n",
      "Requirement already satisfied: pandas in /Users/harrietlesly/anaconda3/envs/rlig/lib/python3.8/site-packages (from ganblr==0.1.1) (1.5.3)\r\n",
      "Requirement already satisfied: tensorflow>=2.3 in /Users/harrietlesly/anaconda3/envs/rlig/lib/python3.8/site-packages (from ganblr==0.1.1) (2.13.0)\r\n",
      "Requirement already satisfied: scikit-learn>=0.24 in /Users/harrietlesly/anaconda3/envs/rlig/lib/python3.8/site-packages (from ganblr==0.1.1) (1.3.2)\r\n",
      "Requirement already satisfied: pyitlib in /Users/harrietlesly/anaconda3/envs/rlig/lib/python3.8/site-packages (from ganblr==0.1.1) (0.3.0)\r\n",
      "Requirement already satisfied: pgmpy in /Users/harrietlesly/anaconda3/envs/rlig/lib/python3.8/site-packages (from ganblr==0.1.1) (0.1.19)\r\n",
      "Requirement already satisfied: scipy>=1.5.0 in /Users/harrietlesly/anaconda3/envs/rlig/lib/python3.8/site-packages (from scikit-learn>=0.24->ganblr==0.1.1) (1.10.1)\r\n",
      "Requirement already satisfied: joblib>=1.1.1 in /Users/harrietlesly/anaconda3/envs/rlig/lib/python3.8/site-packages (from scikit-learn>=0.24->ganblr==0.1.1) (1.4.2)\r\n",
      "Requirement already satisfied: threadpoolctl>=2.0.0 in /Users/harrietlesly/anaconda3/envs/rlig/lib/python3.8/site-packages (from scikit-learn>=0.24->ganblr==0.1.1) (3.5.0)\r\n",
      "Requirement already satisfied: tensorflow-macos==2.13.0 in /Users/harrietlesly/anaconda3/envs/rlig/lib/python3.8/site-packages (from tensorflow>=2.3->ganblr==0.1.1) (2.13.0)\r\n",
      "Requirement already satisfied: absl-py>=1.0.0 in /Users/harrietlesly/anaconda3/envs/rlig/lib/python3.8/site-packages (from tensorflow-macos==2.13.0->tensorflow>=2.3->ganblr==0.1.1) (2.2.2)\r\n",
      "Requirement already satisfied: astunparse>=1.6.0 in /Users/harrietlesly/anaconda3/envs/rlig/lib/python3.8/site-packages (from tensorflow-macos==2.13.0->tensorflow>=2.3->ganblr==0.1.1) (1.6.3)\r\n",
      "Requirement already satisfied: flatbuffers>=23.1.21 in /Users/harrietlesly/anaconda3/envs/rlig/lib/python3.8/site-packages (from tensorflow-macos==2.13.0->tensorflow>=2.3->ganblr==0.1.1) (25.2.10)\r\n",
      "Requirement already satisfied: gast<=0.4.0,>=0.2.1 in /Users/harrietlesly/anaconda3/envs/rlig/lib/python3.8/site-packages (from tensorflow-macos==2.13.0->tensorflow>=2.3->ganblr==0.1.1) (0.4.0)\r\n",
      "Requirement already satisfied: google-pasta>=0.1.1 in /Users/harrietlesly/anaconda3/envs/rlig/lib/python3.8/site-packages (from tensorflow-macos==2.13.0->tensorflow>=2.3->ganblr==0.1.1) (0.2.0)\r\n",
      "Requirement already satisfied: h5py>=2.9.0 in /Users/harrietlesly/anaconda3/envs/rlig/lib/python3.8/site-packages (from tensorflow-macos==2.13.0->tensorflow>=2.3->ganblr==0.1.1) (3.11.0)\r\n",
      "Requirement already satisfied: libclang>=13.0.0 in /Users/harrietlesly/anaconda3/envs/rlig/lib/python3.8/site-packages (from tensorflow-macos==2.13.0->tensorflow>=2.3->ganblr==0.1.1) (18.1.1)\r\n",
      "Requirement already satisfied: opt-einsum>=2.3.2 in /Users/harrietlesly/anaconda3/envs/rlig/lib/python3.8/site-packages (from tensorflow-macos==2.13.0->tensorflow>=2.3->ganblr==0.1.1) (3.4.0)\r\n",
      "Requirement already satisfied: packaging in /Users/harrietlesly/anaconda3/envs/rlig/lib/python3.8/site-packages (from tensorflow-macos==2.13.0->tensorflow>=2.3->ganblr==0.1.1) (24.1)\r\n",
      "Requirement already satisfied: protobuf!=4.21.0,!=4.21.1,!=4.21.2,!=4.21.3,!=4.21.4,!=4.21.5,<5.0.0dev,>=3.20.3 in /Users/harrietlesly/anaconda3/envs/rlig/lib/python3.8/site-packages (from tensorflow-macos==2.13.0->tensorflow>=2.3->ganblr==0.1.1) (4.25.7)\r\n",
      "Requirement already satisfied: setuptools in /Users/harrietlesly/anaconda3/envs/rlig/lib/python3.8/site-packages (from tensorflow-macos==2.13.0->tensorflow>=2.3->ganblr==0.1.1) (75.1.0)\r\n",
      "Requirement already satisfied: six>=1.12.0 in /Users/harrietlesly/anaconda3/envs/rlig/lib/python3.8/site-packages (from tensorflow-macos==2.13.0->tensorflow>=2.3->ganblr==0.1.1) (1.16.0)\r\n",
      "Requirement already satisfied: termcolor>=1.1.0 in /Users/harrietlesly/anaconda3/envs/rlig/lib/python3.8/site-packages (from tensorflow-macos==2.13.0->tensorflow>=2.3->ganblr==0.1.1) (2.4.0)\r\n",
      "Requirement already satisfied: typing-extensions<4.6.0,>=3.6.6 in /Users/harrietlesly/anaconda3/envs/rlig/lib/python3.8/site-packages (from tensorflow-macos==2.13.0->tensorflow>=2.3->ganblr==0.1.1) (4.5.0)\r\n",
      "Requirement already satisfied: wrapt>=1.11.0 in /Users/harrietlesly/anaconda3/envs/rlig/lib/python3.8/site-packages (from tensorflow-macos==2.13.0->tensorflow>=2.3->ganblr==0.1.1) (1.17.2)\r\n",
      "Requirement already satisfied: grpcio<2.0,>=1.24.3 in /Users/harrietlesly/anaconda3/envs/rlig/lib/python3.8/site-packages (from tensorflow-macos==2.13.0->tensorflow>=2.3->ganblr==0.1.1) (1.70.0)\r\n",
      "Requirement already satisfied: tensorboard<2.14,>=2.13 in /Users/harrietlesly/anaconda3/envs/rlig/lib/python3.8/site-packages (from tensorflow-macos==2.13.0->tensorflow>=2.3->ganblr==0.1.1) (2.13.0)\r\n",
      "Requirement already satisfied: tensorflow-estimator<2.14,>=2.13.0 in /Users/harrietlesly/anaconda3/envs/rlig/lib/python3.8/site-packages (from tensorflow-macos==2.13.0->tensorflow>=2.3->ganblr==0.1.1) (2.13.0)\r\n",
      "Requirement already satisfied: keras<2.14,>=2.13.1 in /Users/harrietlesly/anaconda3/envs/rlig/lib/python3.8/site-packages (from tensorflow-macos==2.13.0->tensorflow>=2.3->ganblr==0.1.1) (2.13.1)\r\n",
      "Requirement already satisfied: python-dateutil>=2.8.1 in /Users/harrietlesly/anaconda3/envs/rlig/lib/python3.8/site-packages (from pandas->ganblr==0.1.1) (2.9.0.post0)\r\n",
      "Requirement already satisfied: pytz>=2020.1 in /Users/harrietlesly/anaconda3/envs/rlig/lib/python3.8/site-packages (from pandas->ganblr==0.1.1) (2024.1)\r\n",
      "Requirement already satisfied: networkx in /Users/harrietlesly/anaconda3/envs/rlig/lib/python3.8/site-packages (from pgmpy->ganblr==0.1.1) (3.1)\r\n",
      "Requirement already satisfied: pyparsing in /Users/harrietlesly/anaconda3/envs/rlig/lib/python3.8/site-packages (from pgmpy->ganblr==0.1.1) (3.1.4)\r\n",
      "Requirement already satisfied: torch in /Users/harrietlesly/anaconda3/envs/rlig/lib/python3.8/site-packages (from pgmpy->ganblr==0.1.1) (2.1.2)\r\n",
      "Requirement already satisfied: statsmodels in /Users/harrietlesly/anaconda3/envs/rlig/lib/python3.8/site-packages (from pgmpy->ganblr==0.1.1) (0.14.1)\r\n",
      "Requirement already satisfied: tqdm in /Users/harrietlesly/anaconda3/envs/rlig/lib/python3.8/site-packages (from pgmpy->ganblr==0.1.1) (4.67.1)\r\n",
      "Requirement already satisfied: future>=0.16.0 in /Users/harrietlesly/anaconda3/envs/rlig/lib/python3.8/site-packages (from pyitlib->ganblr==0.1.1) (1.0.0)\r\n",
      "Requirement already satisfied: patsy>=0.5.4 in /Users/harrietlesly/anaconda3/envs/rlig/lib/python3.8/site-packages (from statsmodels->pgmpy->ganblr==0.1.1) (1.0.1)\r\n",
      "Requirement already satisfied: filelock in /Users/harrietlesly/anaconda3/envs/rlig/lib/python3.8/site-packages (from torch->pgmpy->ganblr==0.1.1) (3.16.1)\r\n",
      "Requirement already satisfied: sympy in /Users/harrietlesly/anaconda3/envs/rlig/lib/python3.8/site-packages (from torch->pgmpy->ganblr==0.1.1) (1.13.3)\r\n",
      "Requirement already satisfied: jinja2 in /Users/harrietlesly/anaconda3/envs/rlig/lib/python3.8/site-packages (from torch->pgmpy->ganblr==0.1.1) (3.1.4)\r\n",
      "Requirement already satisfied: fsspec in /Users/harrietlesly/anaconda3/envs/rlig/lib/python3.8/site-packages (from torch->pgmpy->ganblr==0.1.1) (2025.3.0)\r\n",
      "Requirement already satisfied: wheel<1.0,>=0.23.0 in /Users/harrietlesly/anaconda3/envs/rlig/lib/python3.8/site-packages (from astunparse>=1.6.0->tensorflow-macos==2.13.0->tensorflow>=2.3->ganblr==0.1.1) (0.44.0)\r\n",
      "Requirement already satisfied: google-auth<3,>=1.6.3 in /Users/harrietlesly/anaconda3/envs/rlig/lib/python3.8/site-packages (from tensorboard<2.14,>=2.13->tensorflow-macos==2.13.0->tensorflow>=2.3->ganblr==0.1.1) (2.39.0)\r\n",
      "Requirement already satisfied: google-auth-oauthlib<1.1,>=0.5 in /Users/harrietlesly/anaconda3/envs/rlig/lib/python3.8/site-packages (from tensorboard<2.14,>=2.13->tensorflow-macos==2.13.0->tensorflow>=2.3->ganblr==0.1.1) (1.0.0)\r\n",
      "Requirement already satisfied: markdown>=2.6.8 in /Users/harrietlesly/anaconda3/envs/rlig/lib/python3.8/site-packages (from tensorboard<2.14,>=2.13->tensorflow-macos==2.13.0->tensorflow>=2.3->ganblr==0.1.1) (3.7)\r\n",
      "Requirement already satisfied: requests<3,>=2.21.0 in /Users/harrietlesly/anaconda3/envs/rlig/lib/python3.8/site-packages (from tensorboard<2.14,>=2.13->tensorflow-macos==2.13.0->tensorflow>=2.3->ganblr==0.1.1) (2.32.3)\r\n",
      "Requirement already satisfied: tensorboard-data-server<0.8.0,>=0.7.0 in /Users/harrietlesly/anaconda3/envs/rlig/lib/python3.8/site-packages (from tensorboard<2.14,>=2.13->tensorflow-macos==2.13.0->tensorflow>=2.3->ganblr==0.1.1) (0.7.2)\r\n",
      "Requirement already satisfied: werkzeug>=1.0.1 in /Users/harrietlesly/anaconda3/envs/rlig/lib/python3.8/site-packages (from tensorboard<2.14,>=2.13->tensorflow-macos==2.13.0->tensorflow>=2.3->ganblr==0.1.1) (3.0.6)\r\n",
      "Requirement already satisfied: MarkupSafe>=2.0 in /Users/harrietlesly/anaconda3/envs/rlig/lib/python3.8/site-packages (from jinja2->torch->pgmpy->ganblr==0.1.1) (2.1.3)\r\n",
      "Requirement already satisfied: mpmath<1.4,>=1.1.0 in /Users/harrietlesly/anaconda3/envs/rlig/lib/python3.8/site-packages (from sympy->torch->pgmpy->ganblr==0.1.1) (1.3.0)\r\n",
      "Requirement already satisfied: cachetools<6.0,>=2.0.0 in /Users/harrietlesly/anaconda3/envs/rlig/lib/python3.8/site-packages (from google-auth<3,>=1.6.3->tensorboard<2.14,>=2.13->tensorflow-macos==2.13.0->tensorflow>=2.3->ganblr==0.1.1) (5.5.2)\r\n",
      "Requirement already satisfied: pyasn1-modules>=0.2.1 in /Users/harrietlesly/anaconda3/envs/rlig/lib/python3.8/site-packages (from google-auth<3,>=1.6.3->tensorboard<2.14,>=2.13->tensorflow-macos==2.13.0->tensorflow>=2.3->ganblr==0.1.1) (0.4.2)\r\n",
      "Requirement already satisfied: rsa<5,>=3.1.4 in /Users/harrietlesly/anaconda3/envs/rlig/lib/python3.8/site-packages (from google-auth<3,>=1.6.3->tensorboard<2.14,>=2.13->tensorflow-macos==2.13.0->tensorflow>=2.3->ganblr==0.1.1) (4.9.1)\r\n",
      "Requirement already satisfied: requests-oauthlib>=0.7.0 in /Users/harrietlesly/anaconda3/envs/rlig/lib/python3.8/site-packages (from google-auth-oauthlib<1.1,>=0.5->tensorboard<2.14,>=2.13->tensorflow-macos==2.13.0->tensorflow>=2.3->ganblr==0.1.1) (2.0.0)\r\n",
      "Requirement already satisfied: importlib-metadata>=4.4 in /Users/harrietlesly/anaconda3/envs/rlig/lib/python3.8/site-packages (from markdown>=2.6.8->tensorboard<2.14,>=2.13->tensorflow-macos==2.13.0->tensorflow>=2.3->ganblr==0.1.1) (7.0.1)\r\n",
      "Requirement already satisfied: charset-normalizer<4,>=2 in /Users/harrietlesly/anaconda3/envs/rlig/lib/python3.8/site-packages (from requests<3,>=2.21.0->tensorboard<2.14,>=2.13->tensorflow-macos==2.13.0->tensorflow>=2.3->ganblr==0.1.1) (3.3.2)\r\n",
      "Requirement already satisfied: idna<4,>=2.5 in /Users/harrietlesly/anaconda3/envs/rlig/lib/python3.8/site-packages (from requests<3,>=2.21.0->tensorboard<2.14,>=2.13->tensorflow-macos==2.13.0->tensorflow>=2.3->ganblr==0.1.1) (3.7)\r\n",
      "Requirement already satisfied: urllib3<3,>=1.21.1 in /Users/harrietlesly/anaconda3/envs/rlig/lib/python3.8/site-packages (from requests<3,>=2.21.0->tensorboard<2.14,>=2.13->tensorflow-macos==2.13.0->tensorflow>=2.3->ganblr==0.1.1) (2.2.3)\r\n",
      "Requirement already satisfied: certifi>=2017.4.17 in /Users/harrietlesly/anaconda3/envs/rlig/lib/python3.8/site-packages (from requests<3,>=2.21.0->tensorboard<2.14,>=2.13->tensorflow-macos==2.13.0->tensorflow>=2.3->ganblr==0.1.1) (2024.8.30)\r\n",
      "Requirement already satisfied: zipp>=0.5 in /Users/harrietlesly/anaconda3/envs/rlig/lib/python3.8/site-packages (from importlib-metadata>=4.4->markdown>=2.6.8->tensorboard<2.14,>=2.13->tensorflow-macos==2.13.0->tensorflow>=2.3->ganblr==0.1.1) (3.20.2)\r\n",
      "Requirement already satisfied: pyasn1<0.7.0,>=0.6.1 in /Users/harrietlesly/anaconda3/envs/rlig/lib/python3.8/site-packages (from pyasn1-modules>=0.2.1->google-auth<3,>=1.6.3->tensorboard<2.14,>=2.13->tensorflow-macos==2.13.0->tensorflow>=2.3->ganblr==0.1.1) (0.6.1)\r\n",
      "Requirement already satisfied: oauthlib>=3.0.0 in /Users/harrietlesly/anaconda3/envs/rlig/lib/python3.8/site-packages (from requests-oauthlib>=0.7.0->google-auth-oauthlib<1.1,>=0.5->tensorboard<2.14,>=2.13->tensorflow-macos==2.13.0->tensorflow>=2.3->ganblr==0.1.1) (3.2.2)\r\n",
      "Installing collected packages: ganblr\r\n",
      "  Attempting uninstall: ganblr\r\n",
      "    Found existing installation: ganblr 0.1.1\r\n",
      "    Uninstalling ganblr-0.1.1:\r\n",
      "      Successfully uninstalled ganblr-0.1.1\r\n",
      "\u001B[33m  DEPRECATION: Legacy editable install of ganblr==0.1.1 from file:///Users/harrietlesly/Mini-Project/RLiG/ganblr-0.1.1 (setup.py develop) is deprecated. pip 25.0 will enforce this behaviour change. A possible replacement is to add a pyproject.toml or enable --use-pep517, and use setuptools >= 64. If the resulting installation is not behaving as expected, try using --config-settings editable_mode=compat. Please consult the setuptools documentation for more information. Discussion can be found at https://github.com/pypa/pip/issues/11457\u001B[0m\u001B[33m\r\n",
      "\u001B[0m  Running setup.py develop for ganblr\r\n",
      "Successfully installed ganblr\r\n"
     ]
    }
   ],
   "source": [
    "# Install RLiG locally\n",
    "!cd ganblr-0.1.1 && pip install -e ."
   ]
  },
  {
   "cell_type": "code",
   "outputs": [],
   "source": [],
   "metadata": {
    "collapsed": false
   }
  },
  {
   "cell_type": "code",
   "execution_count": 11,
   "metadata": {
    "ExecuteTime": {
     "end_time": "2025-04-28T05:45:23.948278Z",
     "start_time": "2025-04-28T05:45:23.942475Z"
    }
   },
   "outputs": [
    {
     "name": "stdout",
     "output_type": "stream",
     "text": [
      "Error importing RLiG: cannot import name 'AIC' from 'pgmpy.estimators' (/Users/harrietlesly/anaconda3/envs/rlig/lib/python3.8/site-packages/pgmpy/estimators/__init__.py)\n"
     ]
    }
   ],
   "source": [
    "# Verify RLiG installation\n",
    "try:\n",
    "    from ganblr.models import RLiG\n",
    "    print(\"RLiG successfully imported!\")\n",
    "except ImportError as e:\n",
    "    print(f\"Error importing RLiG: {e}\")"
   ]
  },
  {
   "cell_type": "markdown",
   "metadata": {},
   "source": [
    "## Step 3: Dataset Preparation\n",
    "\n",
    "Let's prepare our datasets. We'll use a couple of small datasets first to verify everything works."
   ]
  },
  {
   "cell_type": "code",
   "execution_count": null,
   "metadata": {},
   "outputs": [],
   "source": [
    "# Define a function to get UCI datasets\n",
    "def get_dataset(name, id=None, path=None):\n",
    "    \"\"\"\n",
    "    Get a dataset by name, either from UCI repository or local path\n",
    "    \"\"\"\n",
    "    if id is not None:\n",
    "        try:\n",
    "            from ucimlrepo import fetch_ucirepo\n",
    "            dataset = fetch_ucirepo(id=id)\n",
    "            X = dataset.data.features\n",
    "            y = dataset.data.targets\n",
    "            print(f\"Loaded {name} dataset from UCI ML Repository\")\n",
    "            print(f\"Features shape: {X.shape}, Target shape: {y.shape}\")\n",
    "            return X, y\n",
    "        except Exception as e:\n",
    "            print(f\"Error loading UCI dataset: {e}\")\n",
    "    \n",
    "    if path is not None:\n",
    "        try:\n",
    "            df = pd.read_csv(path)\n",
    "            X = df.iloc[:, :-1]\n",
    "            y = df.iloc[:, -1:]\n",
    "            print(f\"Loaded {name} dataset from {path}\")\n",
    "            print(f\"Features shape: {X.shape}, Target shape: {y.shape}\")\n",
    "            return X, y\n",
    "        except Exception as e:\n",
    "            print(f\"Error loading dataset from file: {e}\")\n",
    "    \n",
    "    # If we get here, we couldn't load the dataset\n",
    "    print(f\"Could not load {name} dataset\")\n",
    "    return None, None"
   ]
  },
  {
   "cell_type": "code",
   "execution_count": null,
   "metadata": {},
   "outputs": [],
   "source": [
    "# Test loading a dataset\n",
    "X, y = get_dataset(\"Rice\", id=545)\n",
    "if X is not None:\n",
    "    print(\"\\nFeature columns:\", X.columns.tolist())\n",
    "    print(\"\\nFirst few rows of X:\")\n",
    "    display(X.head())\n",
    "    print(\"\\nFirst few rows of y:\")\n",
    "    display(y.head())"
   ]
  },
  {
   "cell_type": "markdown",
   "metadata": {},
   "source": [
    "## Step 4: Data Preprocessing\n",
    "\n",
    "We need to preprocess our data to ensure it's in the right format for all models."
   ]
  },
  {
   "cell_type": "code",
   "execution_count": null,
   "metadata": {},
   "outputs": [],
   "source": [
    "# Import preprocessing packages\n",
    "from sklearn.model_selection import train_test_split\n",
    "from sklearn.preprocessing import StandardScaler, LabelEncoder, KBinsDiscretizer\n",
    "from sklearn.compose import ColumnTransformer\n",
    "from sklearn.pipeline import Pipeline"
   ]
  },
  {
   "cell_type": "code",
   "execution_count": null,
   "metadata": {},
   "outputs": [],
   "source": [
    "def label_encode_cols(X, cols):\n",
    "    \"\"\"Label encode categorical columns\"\"\"\n",
    "    X_encoded = X.copy()\n",
    "    encoders = {}\n",
    "    for col in cols:\n",
    "        le = LabelEncoder()\n",
    "        X_encoded[col] = le.fit_transform(X_encoded[col])\n",
    "        encoders[col] = le\n",
    "    return X_encoded, encoders\n",
    "\n",
    "def preprocess_data(X, y):\n",
    "    \"\"\"Preprocess data: discretize continuous variables and encode categoricals\"\"\"\n",
    "    # Identify column types\n",
    "    continuous_cols = X.select_dtypes(include=['number']).columns\n",
    "    categorical_cols = X.select_dtypes(include=['object']).columns\n",
    "    \n",
    "    print(f\"Continuous columns: {len(continuous_cols)}\")\n",
    "    print(f\"Categorical columns: {len(categorical_cols)}\")\n",
    "    \n",
    "    # Create transformation pipeline\n",
    "    transformers = []\n",
    "    if len(continuous_cols) > 0:\n",
    "        continuous_transformer = Pipeline(steps=[\n",
    "            ('scaler', StandardScaler()),\n",
    "            ('discretizer', KBinsDiscretizer(n_bins=5, encode='ordinal', strategy='uniform'))\n",
    "        ])\n",
    "        transformers.append(('num', continuous_transformer, continuous_cols))\n",
    "    \n",
    "    # Handle categorical columns\n",
    "    if len(categorical_cols) > 0:\n",
    "        X, encoders = label_encode_cols(X, categorical_cols)\n",
    "    \n",
    "    # Apply transformations\n",
    "    preprocessor = ColumnTransformer(transformers=transformers, remainder='passthrough')\n",
    "    X_transformed = preprocessor.fit_transform(X)\n",
    "    X_transformed_df = pd.DataFrame(X_transformed, columns=continuous_cols.tolist() + categorical_cols.tolist())\n",
    "    \n",
    "    # Handle target variable\n",
    "    if y.dtypes[0] == 'object':\n",
    "        label_encoder = LabelEncoder()\n",
    "        y_transformed = pd.DataFrame(label_encoder.fit_transform(y.values.ravel()), columns=y.columns)\n",
    "    else:\n",
    "        y_transformed = y\n",
    "    \n",
    "    # Split data\n",
    "    X_train, X_test, y_train, y_test = train_test_split(X_transformed_df, y_transformed, test_size=0.2, random_state=42, stratify=y)\n",
    "    print(f\"Training set: {X_train.shape[0]} samples\")\n",
    "    print(f\"Test set: {X_test.shape[0]} samples\")\n",
    "    \n",
    "    return X_train, X_test, y_train, y_test"
   ]
  },
  {
   "cell_type": "code",
   "execution_count": null,
   "metadata": {},
   "outputs": [],
   "source": [
    "# Test preprocessing on our dataset\n",
    "if X is not None and y is not None:\n",
    "    X_train, X_test, y_train, y_test = preprocess_data(X, y)\n",
    "    \n",
    "    print(\"\\nPreprocessed training data (first few rows):\")\n",
    "    display(X_train.head())\n",
    "    \n",
    "    # Create combined dataset for pgmpy\n",
    "    train_data = pd.concat([X_train, y_train], axis=1)\n",
    "    print(\"\\nCombined training data shape:\", train_data.shape)\n",
    "    display(train_data.head())"
   ]
  },
  {
   "cell_type": "markdown",
   "metadata": {},
   "source": [
    "## Step 5: Testing the Baseline Models\n",
    "\n",
    "Let's start by testing the baseline models one by one to make sure each works properly."
   ]
  },
  {
   "cell_type": "code",
   "execution_count": null,
   "metadata": {},
   "outputs": [],
   "source": [
    "# Import model packages\n",
    "from pgmpy.estimators import HillClimbSearch, BicScore, TreeSearch, MaximumLikelihoodEstimator\n",
    "from pgmpy.models import BayesianNetwork\n",
    "from pgmpy.inference import VariableElimination\n",
    "from pgmpy.metrics import structure_score\n",
    "from sklearn.naive_bayes import GaussianNB\n",
    "from sklearn.metrics import accuracy_score"
   ]
  },
  {
   "cell_type": "code",
   "execution_count": null,
   "metadata": {},
   "outputs": [],
   "source": [
    "# Helper functions for model evaluation\n",
    "def train_bn(model, data):\n",
    "    \"\"\"Train a Bayesian Network model\"\"\"\n",
    "    bn = BayesianNetwork()\n",
    "    bn.add_nodes_from(model.nodes())\n",
    "    bn.add_edges_from(model.edges())\n",
    "    \n",
    "    # Fit model using Maximum Likelihood Estimation\n",
    "    try:\n",
    "        bn.fit(data, estimator=MaximumLikelihoodEstimator)\n",
    "        return bn\n",
    "    except Exception as e:\n",
    "        print(f\"Error fitting Bayesian Network: {e}\")\n",
    "        return None\n",
    "\n",
    "def evaluate_bn_model(model, X_test, y_test):\n",
    "    \"\"\"Evaluate Bayesian Network classification performance\"\"\"\n",
    "    if model is None:\n",
    "        return None\n",
    "    \n",
    "    infer = VariableElimination(model)\n",
    "    target_var = y_test.columns[0]  # Assumes only one target variable\n",
    "    model_nodes = set(model.nodes())\n",
    "    y_pred = []\n",
    "    \n",
    "    # Make predictions for each test instance\n",
    "    for index, row in X_test.iterrows():\n",
    "        evidence = {k: v for k, v in row.to_dict().items() if k in model_nodes}\n",
    "        try:\n",
    "            q = infer.map_query(variables=[target_var], evidence=evidence, show_progress=False)\n",
    "            y_pred.append(q[target_var])\n",
    "        except Exception as e:\n",
    "            y_pred.append(None)\n",
    "    \n",
    "    # Filter out None predictions\n",
    "    y_test_classes = y_test[target_var].unique()\n",
    "    y_pred = [pred if pred in y_test_classes else None for pred in y_pred]\n",
    "    \n",
    "    valid_indices = [i for i, pred in enumerate(y_pred) if pred is not None]\n",
    "    if not valid_indices:\n",
    "        return 0.0  # No valid predictions\n",
    "    \n",
    "    y_pred = [y_pred[i] for i in valid_indices]\n",
    "    y_test_filtered = y_test.iloc[valid_indices].values.ravel()\n",
    "    \n",
    "    # Calculate accuracy\n",
    "    return accuracy_score(y_test_filtered, y_pred)"
   ]
  },
  {
   "cell_type": "code",
   "execution_count": null,
   "metadata": {},
   "outputs": [],
   "source": [
    "# Test Hill Climbing Search\n",
    "if 'train_data' in locals():\n",
    "    print(\"Testing Hill Climbing Search...\")\n",
    "    try:\n",
    "        hc = HillClimbSearch(train_data)\n",
    "        best_model_hc = hc.estimate(scoring_method=BicScore(train_data))\n",
    "        print(f\"Hill Climbing Search model has {len(best_model_hc.nodes())} nodes and {len(best_model_hc.edges())} edges\")\n",
    "        print(f\"Edges: {best_model_hc.edges()}\")\n",
    "        \n",
    "        # Train the model\n",
    "        bn_hc = train_bn(best_model_hc, train_data)\n",
    "        \n",
    "        # Evaluate\n",
    "        if bn_hc:\n",
    "            hc_acc = evaluate_bn_model(bn_hc, X_test, y_test)\n",
    "            hc_bic = structure_score(bn_hc, train_data, scoring_method=\"bic\")\n",
    "            print(f\"Hill Climbing - Accuracy: {hc_acc:.4f}, BIC: {hc_bic}\")\n",
    "    except Exception as e:\n",
    "        print(f\"Error with Hill Climbing Search: {e}\")"
   ]
  },
  {
   "cell_type": "code",
   "execution_count": null,
   "metadata": {},
   "outputs": [],
   "source": [
    "# Test Tree Search\n",
    "if 'train_data' in locals():\n",
    "    print(\"Testing Tree Search...\")\n",
    "    try:\n",
    "        ts = TreeSearch(train_data)\n",
    "        best_model_ts = ts.estimate()\n",
    "        print(f\"Tree Search model has {len(best_model_ts.nodes())} nodes and {len(best_model_ts.edges())} edges\")\n",
    "        print(f\"Edges: {best_model_ts.edges()}\")\n",
    "        \n",
    "        # Train the model\n",
    "        bn_ts = train_bn(best_model_ts, train_data)\n",
    "        \n",
    "        # Evaluate\n",
    "        if bn_ts:\n",
    "            ts_acc = evaluate_bn_model(bn_ts, X_test, y_test)\n",
    "            ts_bic = structure_score(bn_ts, train_data, scoring_method=\"bic\")\n",
    "            print(f\"Tree Search - Accuracy: {ts_acc:.4f}, BIC: {ts_bic}\")\n",
    "    except Exception as e:\n",
    "        print(f\"Error with Tree Search: {e}\")"
   ]
  },
  {
   "cell_type": "code",
   "execution_count": null,
   "metadata": {},
   "outputs": [],
   "source": [
    "# Test Naive Bayes\n",
    "if 'X_train' in locals() and 'y_train' in locals():\n",
    "    print(\"Testing Naive Bayes...\")\n",
    "    try:\n",
    "        nb = GaussianNB()\n",
    "        nb.fit(X_train, y_train.values.ravel())\n",
    "        \n",
    "        # Evaluate\n",
    "        y_pred = nb.predict(X_test)\n",
    "        nb_acc = accuracy_score(y_test.values.ravel(), y_pred)\n",
    "        print(f\"Naive Bayes - Accuracy: {nb_acc:.4f}\")\n",
    "    except Exception as e:\n",
    "        print(f\"Error with Naive Bayes: {e}\")"
   ]
  },
  {
   "cell_type": "code",
   "execution_count": null,
   "metadata": {},
   "outputs": [],
   "source": [
    "# Test NOTEARS (if causalnex is available)\n",
    "try:\n",
    "    from causalnex.structure import StructureModel\n",
    "    from causalnex.structure.notears import from_pandas\n",
    "    \n",
    "    if 'train_data' in locals():\n",
    "        print(\"Testing NOTEARS...\")\n",
    "        try:\n",
    "            sm = from_pandas(train_data, w_threshold=0.8)\n",
    "            print(f\"NOTEARS model has {len(sm.nodes)} nodes and {len(sm.edges)} edges\")\n",
    "            \n",
    "            # Train the model\n",
    "            bn_nt = train_bn(sm, train_data)\n",
    "            \n",
    "            # Evaluate\n",
    "            if bn_nt:\n",
    "                nt_acc = evaluate_bn_model(bn_nt, X_test, y_test)\n",
    "                nt_bic = structure_score(bn_nt, train_data, scoring_method=\"bic\")\n",
    "                print(f\"NOTEARS - Accuracy: {nt_acc:.4f}, BIC: {nt_bic}\")\n",
    "        except Exception as e:\n",
    "            print(f\"Error with NOTEARS: {e}\")\n",
    "except ImportError:\n",
    "    print(\"CausalNex is not installed. NOTEARS will be skipped.\")"
   ]
  },
  {
   "cell_type": "markdown",
   "metadata": {},
   "source": [
    "## Step 6: Testing RLiG\n",
    "\n",
    "Now let's test RLiG to ensure it works properly."
   ]
  },
  {
   "cell_type": "code",
   "execution_count": null,
   "metadata": {},
   "outputs": [],
   "source": [
    "# Test RLiG on original data format (not the preprocessed version)\n",
    "if X is not None and y is not None:\n",
    "    print(\"Testing RLiG...\")\n",
    "    try:\n",
    "        from ganblr.models import RLiG\n",
    "        \n",
    "        # Initialize model\n",
    "        rlig_model = RLiG()\n",
    "        \n",
    "        # Fit model - use small values for testing\n",
    "        print(\"Fitting RLiG model (this may take a while)...\")\n",
    "        rlig_model.fit(X, y, episodes=2, gan=1, k=0, epochs=5, n=1)\n",
    "        \n",
    "        # Evaluate using RLiG's built-in evaluation\n",
    "        print(\"Evaluating RLiG model...\")\n",
    "        lr_result = rlig_model.evaluate(X, y, model='lr')\n",
    "        mlp_result = rlig_model.evaluate(X, y, model='mlp')\n",
    "        rf_result = rlig_model.evaluate(X, y, model='rf')\n",
    "        \n",
    "        print(f\"RLiG - LR Accuracy: {lr_result:.4f}\")\n",
    "        print(f\"RLiG - MLP Accuracy: {mlp_result:.4f}\")\n",
    "        print(f\"RLiG - RF Accuracy: {rf_result:.4f}\")\n",
    "        \n",
    "        # Visualize the learned Bayesian network\n",
    "        if hasattr(rlig_model, 'bayesian_network'):\n",
    "            model_graphviz = rlig_model.bayesian_network.to_graphviz()\n",
    "            model_graphviz.draw(\"rlig_network.png\", prog=\"dot\")\n",
    "            print(\"RLiG network visualization saved to rlig_network.png\")\n",
    "            \n",
    "            # Print network properties\n",
    "            print(f\"RLiG model has {len(rlig_model.bayesian_network.nodes())} nodes and {len(rlig_model.bayesian_network.edges())} edges\")\n",
    "            \n",
    "            # BIC score\n",
    "            if hasattr(rlig_model, 'best_score'):\n",
    "                print(f\"RLiG BIC score: {rlig_model.best_score}\")\n",
    "    except Exception as e:\n",
    "        print(f\"Error with RLiG: {e}\")"
   ]
  },
  {
   "cell_type": "markdown",
   "metadata": {},
   "source": [
    "## Step 7: Running the Full Comparison\n",
    "\n",
    "Now that we've verified each model works individually, let's run the full comparison framework."
   ]
  },
  {
   "cell_type": "code",
   "execution_count": null,
   "metadata": {},
   "outputs": [],
   "source": [
    "# Import the full comparison framework\n",
    "import sys\n",
    "sys.path.append('../')  # Adjust this path as needed\n",
    "from compare_models import compare_models, format_results"
   ]
  },
  {
   "cell_type": "code",
   "execution_count": null,
   "metadata": {},
   "outputs": [],
   "source": [
    "# Define datasets to evaluate\n",
    "# Start with small datasets for testing\n",
    "datasets = {\n",
    "    'Rice': 545,       # UCI ID for Rice dataset\n",
    "    'TicTacToe': 101   # UCI ID for Tic-tac-toe dataset\n",
    "}"
   ]
  },
  {
   "cell_type": "code",
   "execution_count": null,
   "metadata": {},
   "outputs": [],
   "source": [
    "# Run the comparison\n",
    "results = compare_models(datasets)"
   ]
  },
  {
   "cell_type": "code",
   "execution_count": null,
   "metadata": {},
   "outputs": [],
   "source": [
    "# Format and display results\n",
    "formatted_results = format_results(results)\n",
    "\n",
    "print(\"\\n\\n=== ACCURACY RESULTS ===\")\n",
    "print(formatted_results['accuracy'])\n",
    "print(\"\\n\\n=== TIME RESULTS (seconds) ===\")\n",
    "print(formatted_results['time'])\n",
    "print(\"\\n\\n=== BIC SCORE RESULTS ===\")\n",
    "print(formatted_results['bic'])"
   ]
  },
  {
   "cell_type": "code",
   "execution_count": null,
   "metadata": {},
   "outputs": [],
   "source": [
    "# Visualize the accuracy results\n",
    "plt.figure(figsize=(12, 6))\n",
    "ax = formatted_results['accuracy'].plot(kind='bar')\n",
    "plt.title('Model Accuracy Comparison')\n",
    "plt.ylabel('Accuracy')\n",
    "plt.xlabel('Dataset')\n",
    "plt.xticks(rotation=0)\n",
    "plt.grid(axis='y', linestyle='--', alpha=0.7)\n",
    "plt.legend(title='Model')\n",
    "\n",
    "# Add value labels on the bars\n",
    "for container in ax.containers:\n",
    "    ax.bar_label(container, fmt='%.2f', padding=3)\n",
    "\n",
    "plt.tight_layout()\n",
    "plt.savefig('accuracy_comparison.png')\n",
    "plt.show()"
   ]
  },
  {
   "cell_type": "code",
   "execution_count": null,
   "metadata": {},
   "outputs": [],
   "source": [
    "# Visualize the time results\n",
    "plt.figure(figsize=(12, 6))\n",
    "ax = formatted_results['time'].plot(kind='bar')\n",
    "plt.title('Model Training Time Comparison (seconds)')\n",
    "plt.ylabel('Time (s)')\n",
    "plt.xlabel('Dataset')\n",
    "plt.xticks(rotation=0)\n",
    "plt.grid(axis='y', linestyle='--', alpha=0.7)\n",
    "plt.legend(title='Model')\n",
    "\n",
    "# Add value labels on the bars\n",
    "for container in ax.containers:\n",
    "    ax.bar_label(container, fmt='%.1f', padding=3)\n",
    "\n",
    "plt.tight_layout()\n",
    "plt.savefig('time_comparison.png')\n",
    "plt.show()"
   ]
  },
  {
   "cell_type": "markdown",
   "metadata": {},
   "source": [
    "## Step 8: Troubleshooting\n",
    "\n",
    "If you encounter issues, these debugging cells may help identify the problem."
   ]
  },
  {
   "cell_type": "code",
   "execution_count": null,
   "metadata": {},
   "outputs": [],
   "source": [
    "# Check RLiG details\n",
    "import inspect\n",
    "try:\n",
    "    from ganblr.models import RLiG\n",
    "    print(\"RLiG methods:\")\n",
    "    for method_name, method in inspect.getmembers(RLiG, predicate=inspect.isfunction):\n",
    "        print(f\"  - {method_name}\")\n",
    "except ImportError as e:\n",
    "    print(f\"Error importing RLiG: {e}\")"
   ]
  },
  {
   "cell_type": "code",
   "metadata": {},
   "outputs": [],
   "source": [
    "# Enhanced CPD normalization check with more detailed diagnostics\n",
    "if 'rlig_model' in locals() and hasattr(rlig_model, 'bayesian_network'):\n",
    "    print(\"Checking CPDs in RLiG model...\")\n",
    "    print(f\"Total CPDs: {len(rlig_model.bayesian_network.get_cpds())}\")\n",
    "    \n",
    "    # Check each CPD for normalization issues\n",
    "    for cpd in rlig_model.bayesian_network.get_cpds():\n",
    "        node = cpd.variable\n",
    "        values = cpd.values\n",
    "        sum_values = np.sum(values, axis=0)\n",
    "        norm_condition = np.allclose(sum_values, 1.0, rtol=1e-5)\n",
    "        \n",
    "        print(f\"\\nNode: {node}\")\n",
    "        print(f\"  - Values shape: {values.shape}\")\n",
    "        print(f\"  - Sum to 1: {norm_condition}\")\n",
    "        \n",
    "        if not norm_condition:\n",
    "            # Display diagnostics for problematic CPDs\n",
    "            print(f\"  - Sum values: {sum_values}\")\n",
    "            print(f\"  - Min value: {np.min(values)}, Max value: {np.max(values)}\")\n",
    "            print(f\"  - Zeros count: {np.sum(values == 0)}/{values.size}\")\n",
    "            \n",
    "            # Check for specific issues - find columns that don't sum to 1\n",
    "            if values.ndim > 1:\n",
    "                problematic_cols = np.where(~np.isclose(sum_values, 1.0, rtol=1e-5))[0]\n",
    "                print(f\"  - Problematic columns (indices): {problematic_cols}\")\n",
    "                \n",
    "                if len(problematic_cols) > 0 and len(problematic_cols) < 10:\n",
    "                    # Show sample values for a few problematic columns\n",
    "                    for col_idx in problematic_cols[:3]:  # Show up to 3 examples\n",
    "                        print(f\"    Col {col_idx}: values = {values[:, col_idx]}, sum = {sum_values[col_idx]}\")\n",
    "                        \n",
    "    # Check overall Bayesian Network consistency\n",
    "    print(\"\\nChecking Bayesian Network consistency...\")\n",
    "    try:\n",
    "        is_valid = rlig_model.bayesian_network.check_model()\n",
    "        print(f\"Is valid model: {is_valid}\")\n",
    "    except Exception as e:\n",
    "        print(f\"Error checking model: {e}\")\n",
    "        \n",
    "    # Try to detect the specific Minor_Axis_Length node issue\n",
    "    if hasattr(rlig_model, 'variables'):\n",
    "        print(\"\\nSearching for potential 'Minor_Axis_Length' node...\")\n",
    "        for var in rlig_model.variables:\n",
    "            if 'minor' in str(var).lower() or 'axis' in str(var).lower() or 'length' in str(var).lower():\n",
    "                print(f\"Found potential match: {var}\")\n",
    "                # Try to get the CPD for this node if it exists\n",
    "                try:\n",
    "                    cpd = rlig_model.bayesian_network.get_cpds(str(var))\n",
    "                    if cpd:\n",
    "                        print(f\"CPD for {var}:\")\n",
    "                        print(f\"- Shape: {cpd.values.shape}\")\n",
    "                        print(f\"- Sums to 1: {np.allclose(np.sum(cpd.values, axis=0), 1.0)}\")\n",
    "                except Exception as e:\n",
    "                    print(f\"Error retrieving CPD for {var}: {e}\")"
   ]
  },
  {
   "cell_type": "markdown",
   "metadata": {},
   "source": [
    "## Step 9: Next Steps\n",
    "\n",
    "Once you've confirmed everything works with these small datasets, you can expand to the full set of 13 datasets mentioned in the paper.\n",
    "\n",
    "1. Add more datasets to the datasets dictionary\n",
    "2. Run the full comparison\n",
    "3. Analyze the results across all datasets"
   ]
  },
  {
   "cell_type": "code",
   "execution_count": null,
   "metadata": {},
   "outputs": [],
   "source": [
    "# For full paper replication, use all 13 datasets\n",
    "# This is just a template - adjust paths as needed\n",
    "all_datasets = {\n",
    "    'Adult': 2,\n",
    "    'Rice': 545,\n",
    "    'TicTacToe': 101,\n",
    "    # Add other datasets here\n",
    "    # 'Dataset_name': id_or_path\n",
    "}"
   ]
  },
  {
   "cell_type": "code",
   "execution_count": null,
   "metadata": {},
   "outputs": [],
   "source": [
    "# Optional: Run the full comparison (may take a long time)\n",
    "# Uncomment to run\n",
    "# full_results = compare_models(all_datasets)\n",
    "# full_formatted_results = format_results(full_results)"
   ]
  }
 ],
 "metadata": {
  "kernelspec": {
   "display_name": "Python 3",
   "language": "python",
   "name": "python3"
  },
  "language_info": {
   "codemirror_mode": {
    "name": "ipython",
    "version": 3
   },
   "file_extension": ".py",
   "mimetype": "text/x-python",
   "name": "python",
   "nbconvert_exporter": "python",
   "pygments_lexer": "ipython3",
   "version": "3.8.10"
  }
 },
 "nbformat": 4,
 "nbformat_minor": 4
}
